{
 "cells": [
  {
   "cell_type": "code",
   "execution_count": 2,
   "metadata": {},
   "outputs": [],
   "source": [
    "from tkinter import Tk, Text, TOP, BOTH, X, LEFT, BOTTOM, W, SUNKEN, RIGHT, DISABLED, NORMAL, Widget, messagebox,Button,PhotoImage\n",
    "import tkinter\n",
    "from tkinter.ttk import Frame, Label, Entry\n",
    "\n"
   ]
  },
  {
   "cell_type": "code",
   "execution_count": 3,
   "metadata": {},
   "outputs": [],
   "source": [
    "root = Tk()\n",
    "ancho_ventana = 785\n",
    "alto_ventana = 700\n",
    "x_ventana = root.winfo_screenwidth() // 2 - ancho_ventana // 2\n",
    "y_ventana = root.winfo_screenheight() // 2 - alto_ventana // 2\n",
    "root.call('wm', 'iconphoto', root._w, PhotoImage(file='icono.png'))\n",
    "posicion = str(ancho_ventana) + \"x\" + str(alto_ventana) + \"+\" + str(x_ventana) + \"+\" + str(y_ventana)\n",
    "root.geometry(posicion)\n",
    "root.resizable(False,False)\n",
    "\n",
    "root.title(\"Problema 1\")\n",
    "#Distribución de Frames\n",
    "Frame1=Frame(root).grid(row=0)\n",
    "Frame2=Frame(root, borderwidth=3, relief=\"raised\").grid(row=1)\n",
    "botones=[]\n",
    "for num in range(10):\n",
    "    botones.append(Button(Frame1,text=\"Nuevo\",width=15,height=10, borderwidth=num//2, relief=\"raised\"))\n",
    "    botones[num].grid(row=num//5,column=num-(num//5*5),padx=20, pady=10)\n",
    "Label1=Label(Frame2,text=\"Hola\", borderwidth=num//2, relief=\"raised\").grid(column=0)\n",
    "Label2=Label(Frame2,text=\"Hola2\", borderwidth=num//2, relief=\"raised\").grid(column=1)\n",
    "Label3=Label(Frame2,text=\"Hola3\", borderwidth=num//2, relief=\"raised\").grid(column=2)\n"
   ]
  }
 ],
 "metadata": {
  "interpreter": {
   "hash": "ecf5722fdaf1897a315d257d89d94520bfcaa453217d5becf09b39e73618b0de"
  },
  "kernelspec": {
   "display_name": "Python 3.8.5 64-bit ('base': conda)",
   "language": "python",
   "name": "python3"
  },
  "language_info": {
   "codemirror_mode": {
    "name": "ipython",
    "version": 3
   },
   "file_extension": ".py",
   "mimetype": "text/x-python",
   "name": "python",
   "nbconvert_exporter": "python",
   "pygments_lexer": "ipython3",
   "version": "3.8.5"
  },
  "orig_nbformat": 4
 },
 "nbformat": 4,
 "nbformat_minor": 2
}
